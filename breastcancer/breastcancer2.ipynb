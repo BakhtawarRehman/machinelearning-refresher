{
 "cells": [
  {
   "cell_type": "code",
   "execution_count": 113,
   "metadata": {},
   "outputs": [],
   "source": [
    "import numpy as np\n",
    "import pandas as pd\n",
    "import matplotlib.pyplot as plt\n",
    "from sklearn.metrics import classification_report, confusion_matrix\n",
    "from sklearn.model_selection import train_test_split, GridSearchCV\n",
    "from sklearn.datasets import load_breast_cancer"
   ]
  },
  {
   "cell_type": "code",
   "execution_count": 72,
   "metadata": {},
   "outputs": [
    {
     "name": "stdout",
     "output_type": "stream",
     "text": [
      "dict_keys(['data', 'target', 'frame', 'target_names', 'DESCR', 'feature_names', 'filename', 'data_module'])\n"
     ]
    }
   ],
   "source": [
    "print(load_breast_cancer().keys())\n",
    "df = load_breast_cancer()"
   ]
  },
  {
   "cell_type": "code",
   "execution_count": 73,
   "metadata": {},
   "outputs": [
    {
     "data": {
      "text/html": [
       "<div>\n",
       "<style scoped>\n",
       "    .dataframe tbody tr th:only-of-type {\n",
       "        vertical-align: middle;\n",
       "    }\n",
       "\n",
       "    .dataframe tbody tr th {\n",
       "        vertical-align: top;\n",
       "    }\n",
       "\n",
       "    .dataframe thead th {\n",
       "        text-align: right;\n",
       "    }\n",
       "</style>\n",
       "<table border=\"1\" class=\"dataframe\">\n",
       "  <thead>\n",
       "    <tr style=\"text-align: right;\">\n",
       "      <th></th>\n",
       "      <th>mean radius</th>\n",
       "      <th>mean texture</th>\n",
       "      <th>mean perimeter</th>\n",
       "      <th>mean area</th>\n",
       "      <th>mean smoothness</th>\n",
       "      <th>mean compactness</th>\n",
       "      <th>mean concavity</th>\n",
       "      <th>mean concave points</th>\n",
       "      <th>mean symmetry</th>\n",
       "      <th>mean fractal dimension</th>\n",
       "      <th>...</th>\n",
       "      <th>worst radius</th>\n",
       "      <th>worst texture</th>\n",
       "      <th>worst perimeter</th>\n",
       "      <th>worst area</th>\n",
       "      <th>worst smoothness</th>\n",
       "      <th>worst compactness</th>\n",
       "      <th>worst concavity</th>\n",
       "      <th>worst concave points</th>\n",
       "      <th>worst symmetry</th>\n",
       "      <th>worst fractal dimension</th>\n",
       "    </tr>\n",
       "  </thead>\n",
       "  <tbody>\n",
       "    <tr>\n",
       "      <th>0</th>\n",
       "      <td>17.99</td>\n",
       "      <td>10.38</td>\n",
       "      <td>122.80</td>\n",
       "      <td>1001.0</td>\n",
       "      <td>0.11840</td>\n",
       "      <td>0.27760</td>\n",
       "      <td>0.3001</td>\n",
       "      <td>0.14710</td>\n",
       "      <td>0.2419</td>\n",
       "      <td>0.07871</td>\n",
       "      <td>...</td>\n",
       "      <td>25.38</td>\n",
       "      <td>17.33</td>\n",
       "      <td>184.60</td>\n",
       "      <td>2019.0</td>\n",
       "      <td>0.1622</td>\n",
       "      <td>0.6656</td>\n",
       "      <td>0.7119</td>\n",
       "      <td>0.2654</td>\n",
       "      <td>0.4601</td>\n",
       "      <td>0.11890</td>\n",
       "    </tr>\n",
       "    <tr>\n",
       "      <th>0</th>\n",
       "      <td>20.57</td>\n",
       "      <td>17.77</td>\n",
       "      <td>132.90</td>\n",
       "      <td>1326.0</td>\n",
       "      <td>0.08474</td>\n",
       "      <td>0.07864</td>\n",
       "      <td>0.0869</td>\n",
       "      <td>0.07017</td>\n",
       "      <td>0.1812</td>\n",
       "      <td>0.05667</td>\n",
       "      <td>...</td>\n",
       "      <td>24.99</td>\n",
       "      <td>23.41</td>\n",
       "      <td>158.80</td>\n",
       "      <td>1956.0</td>\n",
       "      <td>0.1238</td>\n",
       "      <td>0.1866</td>\n",
       "      <td>0.2416</td>\n",
       "      <td>0.1860</td>\n",
       "      <td>0.2750</td>\n",
       "      <td>0.08902</td>\n",
       "    </tr>\n",
       "    <tr>\n",
       "      <th>0</th>\n",
       "      <td>19.69</td>\n",
       "      <td>21.25</td>\n",
       "      <td>130.00</td>\n",
       "      <td>1203.0</td>\n",
       "      <td>0.10960</td>\n",
       "      <td>0.15990</td>\n",
       "      <td>0.1974</td>\n",
       "      <td>0.12790</td>\n",
       "      <td>0.2069</td>\n",
       "      <td>0.05999</td>\n",
       "      <td>...</td>\n",
       "      <td>23.57</td>\n",
       "      <td>25.53</td>\n",
       "      <td>152.50</td>\n",
       "      <td>1709.0</td>\n",
       "      <td>0.1444</td>\n",
       "      <td>0.4245</td>\n",
       "      <td>0.4504</td>\n",
       "      <td>0.2430</td>\n",
       "      <td>0.3613</td>\n",
       "      <td>0.08758</td>\n",
       "    </tr>\n",
       "    <tr>\n",
       "      <th>0</th>\n",
       "      <td>11.42</td>\n",
       "      <td>20.38</td>\n",
       "      <td>77.58</td>\n",
       "      <td>386.1</td>\n",
       "      <td>0.14250</td>\n",
       "      <td>0.28390</td>\n",
       "      <td>0.2414</td>\n",
       "      <td>0.10520</td>\n",
       "      <td>0.2597</td>\n",
       "      <td>0.09744</td>\n",
       "      <td>...</td>\n",
       "      <td>14.91</td>\n",
       "      <td>26.50</td>\n",
       "      <td>98.87</td>\n",
       "      <td>567.7</td>\n",
       "      <td>0.2098</td>\n",
       "      <td>0.8663</td>\n",
       "      <td>0.6869</td>\n",
       "      <td>0.2575</td>\n",
       "      <td>0.6638</td>\n",
       "      <td>0.17300</td>\n",
       "    </tr>\n",
       "    <tr>\n",
       "      <th>0</th>\n",
       "      <td>20.29</td>\n",
       "      <td>14.34</td>\n",
       "      <td>135.10</td>\n",
       "      <td>1297.0</td>\n",
       "      <td>0.10030</td>\n",
       "      <td>0.13280</td>\n",
       "      <td>0.1980</td>\n",
       "      <td>0.10430</td>\n",
       "      <td>0.1809</td>\n",
       "      <td>0.05883</td>\n",
       "      <td>...</td>\n",
       "      <td>22.54</td>\n",
       "      <td>16.67</td>\n",
       "      <td>152.20</td>\n",
       "      <td>1575.0</td>\n",
       "      <td>0.1374</td>\n",
       "      <td>0.2050</td>\n",
       "      <td>0.4000</td>\n",
       "      <td>0.1625</td>\n",
       "      <td>0.2364</td>\n",
       "      <td>0.07678</td>\n",
       "    </tr>\n",
       "  </tbody>\n",
       "</table>\n",
       "<p>5 rows × 30 columns</p>\n",
       "</div>"
      ],
      "text/plain": [
       "   mean radius  mean texture  mean perimeter  mean area  mean smoothness  \\\n",
       "0        17.99         10.38          122.80     1001.0          0.11840   \n",
       "0        20.57         17.77          132.90     1326.0          0.08474   \n",
       "0        19.69         21.25          130.00     1203.0          0.10960   \n",
       "0        11.42         20.38           77.58      386.1          0.14250   \n",
       "0        20.29         14.34          135.10     1297.0          0.10030   \n",
       "\n",
       "   mean compactness  mean concavity  mean concave points  mean symmetry  \\\n",
       "0           0.27760          0.3001              0.14710         0.2419   \n",
       "0           0.07864          0.0869              0.07017         0.1812   \n",
       "0           0.15990          0.1974              0.12790         0.2069   \n",
       "0           0.28390          0.2414              0.10520         0.2597   \n",
       "0           0.13280          0.1980              0.10430         0.1809   \n",
       "\n",
       "   mean fractal dimension  ...  worst radius  worst texture  worst perimeter  \\\n",
       "0                 0.07871  ...         25.38          17.33           184.60   \n",
       "0                 0.05667  ...         24.99          23.41           158.80   \n",
       "0                 0.05999  ...         23.57          25.53           152.50   \n",
       "0                 0.09744  ...         14.91          26.50            98.87   \n",
       "0                 0.05883  ...         22.54          16.67           152.20   \n",
       "\n",
       "   worst area  worst smoothness  worst compactness  worst concavity  \\\n",
       "0      2019.0            0.1622             0.6656           0.7119   \n",
       "0      1956.0            0.1238             0.1866           0.2416   \n",
       "0      1709.0            0.1444             0.4245           0.4504   \n",
       "0       567.7            0.2098             0.8663           0.6869   \n",
       "0      1575.0            0.1374             0.2050           0.4000   \n",
       "\n",
       "   worst concave points  worst symmetry  worst fractal dimension  \n",
       "0                0.2654          0.4601                  0.11890  \n",
       "0                0.1860          0.2750                  0.08902  \n",
       "0                0.2430          0.3613                  0.08758  \n",
       "0                0.2575          0.6638                  0.17300  \n",
       "0                0.1625          0.2364                  0.07678  \n",
       "\n",
       "[5 rows x 30 columns]"
      ]
     },
     "execution_count": 73,
     "metadata": {},
     "output_type": "execute_result"
    }
   ],
   "source": [
    "X = pd.DataFrame(df['data'] , df['target'], columns=df['feature_names'])\n",
    "X.head()"
   ]
  },
  {
   "cell_type": "code",
   "execution_count": 74,
   "metadata": {},
   "outputs": [
    {
     "data": {
      "text/plain": [
       "((569, 30), (569, 1))"
      ]
     },
     "execution_count": 74,
     "metadata": {},
     "output_type": "execute_result"
    }
   ],
   "source": [
    "y= pd.DataFrame(df['target'])\n",
    "y.head()\n",
    "X.shape, y.shape"
   ]
  },
  {
   "cell_type": "code",
   "execution_count": 75,
   "metadata": {},
   "outputs": [
    {
     "data": {
      "text/plain": [
       "mean radius                0\n",
       "mean texture               0\n",
       "mean perimeter             0\n",
       "mean area                  0\n",
       "mean smoothness            0\n",
       "mean compactness           0\n",
       "mean concavity             0\n",
       "mean concave points        0\n",
       "mean symmetry              0\n",
       "mean fractal dimension     0\n",
       "radius error               0\n",
       "texture error              0\n",
       "perimeter error            0\n",
       "area error                 0\n",
       "smoothness error           0\n",
       "compactness error          0\n",
       "concavity error            0\n",
       "concave points error       0\n",
       "symmetry error             0\n",
       "fractal dimension error    0\n",
       "worst radius               0\n",
       "worst texture              0\n",
       "worst perimeter            0\n",
       "worst area                 0\n",
       "worst smoothness           0\n",
       "worst compactness          0\n",
       "worst concavity            0\n",
       "worst concave points       0\n",
       "worst symmetry             0\n",
       "worst fractal dimension    0\n",
       "dtype: int64"
      ]
     },
     "execution_count": 75,
     "metadata": {},
     "output_type": "execute_result"
    }
   ],
   "source": [
    "\n",
    "X.isna().sum()"
   ]
  },
  {
   "cell_type": "code",
   "execution_count": 76,
   "metadata": {},
   "outputs": [
    {
     "data": {
      "text/html": [
       "<div>\n",
       "<style scoped>\n",
       "    .dataframe tbody tr th:only-of-type {\n",
       "        vertical-align: middle;\n",
       "    }\n",
       "\n",
       "    .dataframe tbody tr th {\n",
       "        vertical-align: top;\n",
       "    }\n",
       "\n",
       "    .dataframe thead th {\n",
       "        text-align: right;\n",
       "    }\n",
       "</style>\n",
       "<table border=\"1\" class=\"dataframe\">\n",
       "  <thead>\n",
       "    <tr style=\"text-align: right;\">\n",
       "      <th></th>\n",
       "      <th>mean radius</th>\n",
       "      <th>mean texture</th>\n",
       "      <th>mean perimeter</th>\n",
       "      <th>mean area</th>\n",
       "      <th>mean smoothness</th>\n",
       "      <th>mean compactness</th>\n",
       "      <th>mean concavity</th>\n",
       "      <th>mean concave points</th>\n",
       "      <th>mean symmetry</th>\n",
       "      <th>mean fractal dimension</th>\n",
       "      <th>...</th>\n",
       "      <th>worst radius</th>\n",
       "      <th>worst texture</th>\n",
       "      <th>worst perimeter</th>\n",
       "      <th>worst area</th>\n",
       "      <th>worst smoothness</th>\n",
       "      <th>worst compactness</th>\n",
       "      <th>worst concavity</th>\n",
       "      <th>worst concave points</th>\n",
       "      <th>worst symmetry</th>\n",
       "      <th>worst fractal dimension</th>\n",
       "    </tr>\n",
       "  </thead>\n",
       "  <tbody>\n",
       "    <tr>\n",
       "      <th>count</th>\n",
       "      <td>569.000000</td>\n",
       "      <td>569.000000</td>\n",
       "      <td>569.000000</td>\n",
       "      <td>569.000000</td>\n",
       "      <td>569.000000</td>\n",
       "      <td>569.000000</td>\n",
       "      <td>569.000000</td>\n",
       "      <td>569.000000</td>\n",
       "      <td>569.000000</td>\n",
       "      <td>569.000000</td>\n",
       "      <td>...</td>\n",
       "      <td>569.000000</td>\n",
       "      <td>569.000000</td>\n",
       "      <td>569.000000</td>\n",
       "      <td>569.000000</td>\n",
       "      <td>569.000000</td>\n",
       "      <td>569.000000</td>\n",
       "      <td>569.000000</td>\n",
       "      <td>569.000000</td>\n",
       "      <td>569.000000</td>\n",
       "      <td>569.000000</td>\n",
       "    </tr>\n",
       "    <tr>\n",
       "      <th>mean</th>\n",
       "      <td>14.127292</td>\n",
       "      <td>19.289649</td>\n",
       "      <td>91.969033</td>\n",
       "      <td>654.889104</td>\n",
       "      <td>0.096360</td>\n",
       "      <td>0.104341</td>\n",
       "      <td>0.088799</td>\n",
       "      <td>0.048919</td>\n",
       "      <td>0.181162</td>\n",
       "      <td>0.062798</td>\n",
       "      <td>...</td>\n",
       "      <td>16.269190</td>\n",
       "      <td>25.677223</td>\n",
       "      <td>107.261213</td>\n",
       "      <td>880.583128</td>\n",
       "      <td>0.132369</td>\n",
       "      <td>0.254265</td>\n",
       "      <td>0.272188</td>\n",
       "      <td>0.114606</td>\n",
       "      <td>0.290076</td>\n",
       "      <td>0.083946</td>\n",
       "    </tr>\n",
       "    <tr>\n",
       "      <th>std</th>\n",
       "      <td>3.524049</td>\n",
       "      <td>4.301036</td>\n",
       "      <td>24.298981</td>\n",
       "      <td>351.914129</td>\n",
       "      <td>0.014064</td>\n",
       "      <td>0.052813</td>\n",
       "      <td>0.079720</td>\n",
       "      <td>0.038803</td>\n",
       "      <td>0.027414</td>\n",
       "      <td>0.007060</td>\n",
       "      <td>...</td>\n",
       "      <td>4.833242</td>\n",
       "      <td>6.146258</td>\n",
       "      <td>33.602542</td>\n",
       "      <td>569.356993</td>\n",
       "      <td>0.022832</td>\n",
       "      <td>0.157336</td>\n",
       "      <td>0.208624</td>\n",
       "      <td>0.065732</td>\n",
       "      <td>0.061867</td>\n",
       "      <td>0.018061</td>\n",
       "    </tr>\n",
       "    <tr>\n",
       "      <th>min</th>\n",
       "      <td>6.981000</td>\n",
       "      <td>9.710000</td>\n",
       "      <td>43.790000</td>\n",
       "      <td>143.500000</td>\n",
       "      <td>0.052630</td>\n",
       "      <td>0.019380</td>\n",
       "      <td>0.000000</td>\n",
       "      <td>0.000000</td>\n",
       "      <td>0.106000</td>\n",
       "      <td>0.049960</td>\n",
       "      <td>...</td>\n",
       "      <td>7.930000</td>\n",
       "      <td>12.020000</td>\n",
       "      <td>50.410000</td>\n",
       "      <td>185.200000</td>\n",
       "      <td>0.071170</td>\n",
       "      <td>0.027290</td>\n",
       "      <td>0.000000</td>\n",
       "      <td>0.000000</td>\n",
       "      <td>0.156500</td>\n",
       "      <td>0.055040</td>\n",
       "    </tr>\n",
       "    <tr>\n",
       "      <th>25%</th>\n",
       "      <td>11.700000</td>\n",
       "      <td>16.170000</td>\n",
       "      <td>75.170000</td>\n",
       "      <td>420.300000</td>\n",
       "      <td>0.086370</td>\n",
       "      <td>0.064920</td>\n",
       "      <td>0.029560</td>\n",
       "      <td>0.020310</td>\n",
       "      <td>0.161900</td>\n",
       "      <td>0.057700</td>\n",
       "      <td>...</td>\n",
       "      <td>13.010000</td>\n",
       "      <td>21.080000</td>\n",
       "      <td>84.110000</td>\n",
       "      <td>515.300000</td>\n",
       "      <td>0.116600</td>\n",
       "      <td>0.147200</td>\n",
       "      <td>0.114500</td>\n",
       "      <td>0.064930</td>\n",
       "      <td>0.250400</td>\n",
       "      <td>0.071460</td>\n",
       "    </tr>\n",
       "    <tr>\n",
       "      <th>50%</th>\n",
       "      <td>13.370000</td>\n",
       "      <td>18.840000</td>\n",
       "      <td>86.240000</td>\n",
       "      <td>551.100000</td>\n",
       "      <td>0.095870</td>\n",
       "      <td>0.092630</td>\n",
       "      <td>0.061540</td>\n",
       "      <td>0.033500</td>\n",
       "      <td>0.179200</td>\n",
       "      <td>0.061540</td>\n",
       "      <td>...</td>\n",
       "      <td>14.970000</td>\n",
       "      <td>25.410000</td>\n",
       "      <td>97.660000</td>\n",
       "      <td>686.500000</td>\n",
       "      <td>0.131300</td>\n",
       "      <td>0.211900</td>\n",
       "      <td>0.226700</td>\n",
       "      <td>0.099930</td>\n",
       "      <td>0.282200</td>\n",
       "      <td>0.080040</td>\n",
       "    </tr>\n",
       "    <tr>\n",
       "      <th>75%</th>\n",
       "      <td>15.780000</td>\n",
       "      <td>21.800000</td>\n",
       "      <td>104.100000</td>\n",
       "      <td>782.700000</td>\n",
       "      <td>0.105300</td>\n",
       "      <td>0.130400</td>\n",
       "      <td>0.130700</td>\n",
       "      <td>0.074000</td>\n",
       "      <td>0.195700</td>\n",
       "      <td>0.066120</td>\n",
       "      <td>...</td>\n",
       "      <td>18.790000</td>\n",
       "      <td>29.720000</td>\n",
       "      <td>125.400000</td>\n",
       "      <td>1084.000000</td>\n",
       "      <td>0.146000</td>\n",
       "      <td>0.339100</td>\n",
       "      <td>0.382900</td>\n",
       "      <td>0.161400</td>\n",
       "      <td>0.317900</td>\n",
       "      <td>0.092080</td>\n",
       "    </tr>\n",
       "    <tr>\n",
       "      <th>max</th>\n",
       "      <td>28.110000</td>\n",
       "      <td>39.280000</td>\n",
       "      <td>188.500000</td>\n",
       "      <td>2501.000000</td>\n",
       "      <td>0.163400</td>\n",
       "      <td>0.345400</td>\n",
       "      <td>0.426800</td>\n",
       "      <td>0.201200</td>\n",
       "      <td>0.304000</td>\n",
       "      <td>0.097440</td>\n",
       "      <td>...</td>\n",
       "      <td>36.040000</td>\n",
       "      <td>49.540000</td>\n",
       "      <td>251.200000</td>\n",
       "      <td>4254.000000</td>\n",
       "      <td>0.222600</td>\n",
       "      <td>1.058000</td>\n",
       "      <td>1.252000</td>\n",
       "      <td>0.291000</td>\n",
       "      <td>0.663800</td>\n",
       "      <td>0.207500</td>\n",
       "    </tr>\n",
       "  </tbody>\n",
       "</table>\n",
       "<p>8 rows × 30 columns</p>\n",
       "</div>"
      ],
      "text/plain": [
       "       mean radius  mean texture  mean perimeter    mean area  \\\n",
       "count   569.000000    569.000000      569.000000   569.000000   \n",
       "mean     14.127292     19.289649       91.969033   654.889104   \n",
       "std       3.524049      4.301036       24.298981   351.914129   \n",
       "min       6.981000      9.710000       43.790000   143.500000   \n",
       "25%      11.700000     16.170000       75.170000   420.300000   \n",
       "50%      13.370000     18.840000       86.240000   551.100000   \n",
       "75%      15.780000     21.800000      104.100000   782.700000   \n",
       "max      28.110000     39.280000      188.500000  2501.000000   \n",
       "\n",
       "       mean smoothness  mean compactness  mean concavity  mean concave points  \\\n",
       "count       569.000000        569.000000      569.000000           569.000000   \n",
       "mean          0.096360          0.104341        0.088799             0.048919   \n",
       "std           0.014064          0.052813        0.079720             0.038803   \n",
       "min           0.052630          0.019380        0.000000             0.000000   \n",
       "25%           0.086370          0.064920        0.029560             0.020310   \n",
       "50%           0.095870          0.092630        0.061540             0.033500   \n",
       "75%           0.105300          0.130400        0.130700             0.074000   \n",
       "max           0.163400          0.345400        0.426800             0.201200   \n",
       "\n",
       "       mean symmetry  mean fractal dimension  ...  worst radius  \\\n",
       "count     569.000000              569.000000  ...    569.000000   \n",
       "mean        0.181162                0.062798  ...     16.269190   \n",
       "std         0.027414                0.007060  ...      4.833242   \n",
       "min         0.106000                0.049960  ...      7.930000   \n",
       "25%         0.161900                0.057700  ...     13.010000   \n",
       "50%         0.179200                0.061540  ...     14.970000   \n",
       "75%         0.195700                0.066120  ...     18.790000   \n",
       "max         0.304000                0.097440  ...     36.040000   \n",
       "\n",
       "       worst texture  worst perimeter   worst area  worst smoothness  \\\n",
       "count     569.000000       569.000000   569.000000        569.000000   \n",
       "mean       25.677223       107.261213   880.583128          0.132369   \n",
       "std         6.146258        33.602542   569.356993          0.022832   \n",
       "min        12.020000        50.410000   185.200000          0.071170   \n",
       "25%        21.080000        84.110000   515.300000          0.116600   \n",
       "50%        25.410000        97.660000   686.500000          0.131300   \n",
       "75%        29.720000       125.400000  1084.000000          0.146000   \n",
       "max        49.540000       251.200000  4254.000000          0.222600   \n",
       "\n",
       "       worst compactness  worst concavity  worst concave points  \\\n",
       "count         569.000000       569.000000            569.000000   \n",
       "mean            0.254265         0.272188              0.114606   \n",
       "std             0.157336         0.208624              0.065732   \n",
       "min             0.027290         0.000000              0.000000   \n",
       "25%             0.147200         0.114500              0.064930   \n",
       "50%             0.211900         0.226700              0.099930   \n",
       "75%             0.339100         0.382900              0.161400   \n",
       "max             1.058000         1.252000              0.291000   \n",
       "\n",
       "       worst symmetry  worst fractal dimension  \n",
       "count      569.000000               569.000000  \n",
       "mean         0.290076                 0.083946  \n",
       "std          0.061867                 0.018061  \n",
       "min          0.156500                 0.055040  \n",
       "25%          0.250400                 0.071460  \n",
       "50%          0.282200                 0.080040  \n",
       "75%          0.317900                 0.092080  \n",
       "max          0.663800                 0.207500  \n",
       "\n",
       "[8 rows x 30 columns]"
      ]
     },
     "execution_count": 76,
     "metadata": {},
     "output_type": "execute_result"
    }
   ],
   "source": [
    "X.describe()"
   ]
  },
  {
   "cell_type": "code",
   "execution_count": 77,
   "metadata": {},
   "outputs": [
    {
     "name": "stdout",
     "output_type": "stream",
     "text": [
      "1    357\n",
      "0    212\n",
      "dtype: int64\n"
     ]
    }
   ],
   "source": [
    "print(y.value_counts())"
   ]
  },
  {
   "cell_type": "code",
   "execution_count": 78,
   "metadata": {},
   "outputs": [
    {
     "data": {
      "image/png": "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",
      "text/plain": [
       "<Figure size 1080x1080 with 30 Axes>"
      ]
     },
     "metadata": {
      "needs_background": "light"
     },
     "output_type": "display_data"
    }
   ],
   "source": [
    "X.hist( figsize=(15,15))\n",
    "plt.show()"
   ]
  },
  {
   "cell_type": "code",
   "execution_count": 80,
   "metadata": {},
   "outputs": [],
   "source": [
    "xTrain, xTest, yTrain, yTest = train_test_split(X, y.values.ravel(), test_size=0.2)"
   ]
  },
  {
   "cell_type": "code",
   "execution_count": 81,
   "metadata": {},
   "outputs": [
    {
     "data": {
      "text/plain": [
       "0.9824561403508771"
      ]
     },
     "execution_count": 81,
     "metadata": {},
     "output_type": "execute_result"
    }
   ],
   "source": [
    "from sklearn.ensemble import RandomForestClassifier\n",
    "clf = RandomForestClassifier()\n",
    "clf.fit(xTrain, yTrain)\n",
    "\n",
    "clf.score(xTest, yTest)"
   ]
  },
  {
   "cell_type": "code",
   "execution_count": 82,
   "metadata": {},
   "outputs": [
    {
     "name": "stdout",
     "output_type": "stream",
     "text": [
      "(114,) (114,)\n",
      "0.9824561403508771\n"
     ]
    }
   ],
   "source": [
    "yPreds = clf.predict(xTest)\n",
    "print(yPreds.shape, yTest.shape)\n",
    "\n",
    "print ((yPreds == yTest).sum()  / len(yTest) )\n",
    "#confusion_matrix(yTest, y_preds)"
   ]
  },
  {
   "cell_type": "code",
   "execution_count": 100,
   "metadata": {},
   "outputs": [
    {
     "data": {
      "text/plain": [
       "<AxesSubplot:>"
      ]
     },
     "execution_count": 100,
     "metadata": {},
     "output_type": "execute_result"
    },
    {
     "data": {
      "image/png": "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",
      "text/plain": [
       "<Figure size 432x288 with 2 Axes>"
      ]
     },
     "metadata": {
      "needs_background": "light"
     },
     "output_type": "display_data"
    }
   ],
   "source": [
    "import seaborn as sns\n",
    "\n",
    "cm = confusion_matrix(yTest, yPreds)\n",
    "sns.heatmap(cm, annot=True, annot_kws={\"size\": 18}, )"
   ]
  },
  {
   "cell_type": "code",
   "execution_count": 106,
   "metadata": {},
   "outputs": [
    {
     "name": "stdout",
     "output_type": "stream",
     "text": [
      "              precision    recall  f1-score   support\n",
      "\n",
      "           0       1.00      0.95      0.98        44\n",
      "           1       0.97      1.00      0.99        70\n",
      "\n",
      "    accuracy                           0.98       114\n",
      "   macro avg       0.99      0.98      0.98       114\n",
      "weighted avg       0.98      0.98      0.98       114\n",
      "\n"
     ]
    }
   ],
   "source": [
    "print(classification_report(yTest, yPreds))"
   ]
  },
  {
   "cell_type": "code",
   "execution_count": 107,
   "metadata": {},
   "outputs": [
    {
     "data": {
      "text/plain": [
       "0.9298245614035088"
      ]
     },
     "execution_count": 107,
     "metadata": {},
     "output_type": "execute_result"
    }
   ],
   "source": [
    "from sklearn.linear_model import LogisticRegression\n",
    "clf = LogisticRegression(random_state = 0, max_iter=2500)\n",
    "\n",
    "clf.fit(xTrain, yTrain)\n",
    "clf.score(xTest, yTest)"
   ]
  },
  {
   "cell_type": "code",
   "execution_count": 110,
   "metadata": {},
   "outputs": [
    {
     "data": {
      "text/plain": [
       "array([1, 1, 0, 0, 0, 1, 1, 1, 0, 0, 0, 0, 0, 1, 1, 1, 1, 1, 0, 1, 0, 0,\n",
       "       1, 1, 0, 1, 1, 1, 1, 0, 1, 1, 0, 1, 1, 1, 0, 1, 1, 1, 1, 1, 1, 1,\n",
       "       0, 1, 0, 1, 1, 1, 1, 0, 1, 1, 0, 0, 0, 1, 1, 1, 1, 0, 0, 0, 1, 1,\n",
       "       1, 1, 0, 1, 1, 0, 1, 0, 1, 1, 1, 0, 1, 1, 0, 1, 1, 0, 1, 1, 1, 1,\n",
       "       1, 0, 0, 0, 0, 1, 0, 1, 0, 0, 1, 1, 1, 1, 1, 1, 0, 0, 0, 1, 1, 1,\n",
       "       1, 0, 0, 1])"
      ]
     },
     "execution_count": 110,
     "metadata": {},
     "output_type": "execute_result"
    }
   ],
   "source": [
    "yPreds = clf.predict(xTest)\n",
    "yPreds"
   ]
  },
  {
   "cell_type": "code",
   "execution_count": 123,
   "metadata": {},
   "outputs": [
    {
     "name": "stderr",
     "output_type": "stream",
     "text": [
     : One or more of the test scores are non-finite: [       nan        nan 0.92087912        nan 0.91868132 0.93846154\n",
      " 0.93846154 0.92967033 0.92967033 0.92747253        nan        nan\n",
      " 0.92087912        nan 0.92527473 0.95604396 0.95604396 0.93406593\n",
      " 0.92967033 0.92967033        nan        nan 0.93186813        nan\n",
      " 0.92967033 0.95384615 0.95384615 0.94505495 0.93186813 0.92967033\n",
      "        nan        nan 0.96043956        nan 0.92967033 0.96263736\n",
      " 0.96263736 0.95384615 0.93186813 0.92967033        nan        nan\n",
      " 0.96483516        nan 0.92967033 0.96483516 0.96483516 0.96263736\n",
      " 0.93186813 0.92967033        nan        nan 0.96483516        nan\n",
      " 0.92967033 0.96923077 0.97142857 0.96263736 0.93186813 0.92967033\n",
      "        nan        nan 0.95384615        nan 0.92967033 0.96703297\n",
      " 0.96483516 0.96703297 0.93186813 0.92967033]\n",
      "  warnings.warn(\n"
     ]
    },
    {
     "data": {
      "text/plain": [
       "0.9473684210526315"
      ]
     },
     "execution_count": 123,
     "metadata": {},
     "output_type": "execute_result"
    }
   ],
   "source": [
    "LRparam_grid = {\n",
    "    'C': [0.001, 0.01, 0.1, 1, 10, 100, 1000],\n",
    "    'penalty': ['l1', 'l2'],\n",
    "    # 'max_iter': list(range(100,800,100)),\n",
    "    'solver': ['newton-cg', 'lbfgs', 'liblinear', 'sag', 'saga'],\n",
    "    # getting error for smaller numbers to increase max_iters. \n",
    "    # this is the best i could find after 4-5 different combination\n",
    "    'max_iter': [4500]\n",
    "}\n",
    "\n",
    "lrSearch = GridSearchCV(clf, param_grid=LRparam_grid, refit = True, verbose = 0, cv=5)\n",
    "lrSearch.fit(xTrain, yTrain)\n",
    "lrSearch.score(xTest, yTest)"
   ]
  },
  {
   "cell_type": "code",
   "execution_count": 124,
   "metadata": {},
   "outputs": [
    {
     "name": "stdout",
     "output_type": "stream",
     "text": [
      "Mean Accuracy: 0.971\n",
      "Config: {'C': 100, 'max_iter': 4500, 'penalty': 'l2', 'solver': 'lbfgs'}\n"
     ]
    }
   ],
   "source": [
    "print('Mean Accuracy: %.3f' % lrSearch.best_score_)\n",
    "print('Config: %s' % lrSearch.best_params_)"
   ]
  },
  {
   "cell_type": "code",
   "execution_count": null,
   "metadata": {},
   "outputs": [],
   "source": []
  }
 ],
 "metadata": {
  "interpreter": {
   "hash": "821a05091dec1d0f83c6bccf42d3aa9f3d3c9a3d2530485bb07f63dfe220dc74"
  },
  "kernelspec": {
   "display_name": "Python 3.8.8 ('pytorch_venv')",
   "language": "python",
   "name": "python3"
  },
  "language_info": {
   "codemirror_mode": {
    "name": "ipython",
    "version": 3
   },
   "file_extension": ".py",
   "mimetype": "text/x-python",
   "name": "python",
   "nbconvert_exporter": "python",
   "pygments_lexer": "ipython3",
   "version": "3.8.8"
  },
  "orig_nbformat": 4
 },
 "nbformat": 4,
 "nbformat_minor": 2
}
