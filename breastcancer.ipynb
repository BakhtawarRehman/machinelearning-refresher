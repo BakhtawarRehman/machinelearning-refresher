{
 "cells": [
  {
   "cell_type": "code",
   "execution_count": 1,
   "metadata": {},
   "outputs": [],
   "source": [
    "import numpy as np\n",
    "import matplotlib.pyplot as plt\n",
    "import pandas as pd"
   ]
  },
  {
   "cell_type": "markdown",
   "metadata": {},
   "source": [
    " `Attribute Information:`\n",
    "\n",
    "['age', 'year', 'nodes', 'class']\n",
    "\n",
    "1. Age of patient at time of operation (numerical)\n",
    "2. Patient's year of operation (year - 1900, numerical)\n",
    "3. Number of positive axillary nodes detected (numerical)\n",
    "4. Survival status (class attribute)\n",
    "-- 1 = the patient survived 5 years or longer\n",
    "-- 2 = the patient died within 5 year"
   ]
  },
  {
   "cell_type": "code",
   "execution_count": 5,
   "metadata": {},
   "outputs": [
    {
     "data": {
      "text/html": [
       "<div>\n",
       "<style scoped>\n",
       "    .dataframe tbody tr th:only-of-type {\n",
       "        vertical-align: middle;\n",
       "    }\n",
       "\n",
       "    .dataframe tbody tr th {\n",
       "        vertical-align: top;\n",
       "    }\n",
       "\n",
       "    .dataframe thead th {\n",
       "        text-align: right;\n",
       "    }\n",
       "</style>\n",
       "<table border=\"1\" class=\"dataframe\">\n",
       "  <thead>\n",
       "    <tr style=\"text-align: right;\">\n",
       "      <th></th>\n",
       "      <th>age</th>\n",
       "      <th>year</th>\n",
       "      <th>nodes</th>\n",
       "      <th>class</th>\n",
       "    </tr>\n",
       "  </thead>\n",
       "  <tbody>\n",
       "    <tr>\n",
       "      <th>0</th>\n",
       "      <td>30</td>\n",
       "      <td>64</td>\n",
       "      <td>1</td>\n",
       "      <td>1</td>\n",
       "    </tr>\n",
       "    <tr>\n",
       "      <th>1</th>\n",
       "      <td>30</td>\n",
       "      <td>62</td>\n",
       "      <td>3</td>\n",
       "      <td>1</td>\n",
       "    </tr>\n",
       "    <tr>\n",
       "      <th>2</th>\n",
       "      <td>30</td>\n",
       "      <td>65</td>\n",
       "      <td>0</td>\n",
       "      <td>1</td>\n",
       "    </tr>\n",
       "    <tr>\n",
       "      <th>3</th>\n",
       "      <td>31</td>\n",
       "      <td>59</td>\n",
       "      <td>2</td>\n",
       "      <td>1</td>\n",
       "    </tr>\n",
       "    <tr>\n",
       "      <th>4</th>\n",
       "      <td>31</td>\n",
       "      <td>65</td>\n",
       "      <td>4</td>\n",
       "      <td>1</td>\n",
       "    </tr>\n",
       "  </tbody>\n",
       "</table>\n",
       "</div>"
      ],
      "text/plain": [
       "   age  year  nodes  class\n",
       "0   30    64      1      1\n",
       "1   30    62      3      1\n",
       "2   30    65      0      1\n",
       "3   31    59      2      1\n",
       "4   31    65      4      1"
      ]
     },
     "execution_count": 5,
     "metadata": {},
     "output_type": "execute_result"
    }
   ],
   "source": [
    "colums = ['age', 'year', 'nodes', 'class']\n",
    "cancerBr = pd.read_csv('/home/bakhtawar/ds/data/haberman.csv', header=None, names=colums)\n",
    "cancerBr.head()"
   ]
  },
  {
   "cell_type": "code",
   "execution_count": 6,
   "metadata": {},
   "outputs": [
    {
     "data": {
      "text/html": [
       "<div>\n",
       "<style scoped>\n",
       "    .dataframe tbody tr th:only-of-type {\n",
       "        vertical-align: middle;\n",
       "    }\n",
       "\n",
       "    .dataframe tbody tr th {\n",
       "        vertical-align: top;\n",
       "    }\n",
       "\n",
       "    .dataframe thead th {\n",
       "        text-align: right;\n",
       "    }\n",
       "</style>\n",
       "<table border=\"1\" class=\"dataframe\">\n",
       "  <thead>\n",
       "    <tr style=\"text-align: right;\">\n",
       "      <th></th>\n",
       "      <th>age</th>\n",
       "      <th>year</th>\n",
       "      <th>nodes</th>\n",
       "      <th>class</th>\n",
       "    </tr>\n",
       "  </thead>\n",
       "  <tbody>\n",
       "    <tr>\n",
       "      <th>count</th>\n",
       "      <td>306.000000</td>\n",
       "      <td>306.000000</td>\n",
       "      <td>306.000000</td>\n",
       "      <td>306.000000</td>\n",
       "    </tr>\n",
       "    <tr>\n",
       "      <th>mean</th>\n",
       "      <td>52.457516</td>\n",
       "      <td>62.852941</td>\n",
       "      <td>4.026144</td>\n",
       "      <td>1.264706</td>\n",
       "    </tr>\n",
       "    <tr>\n",
       "      <th>std</th>\n",
       "      <td>10.803452</td>\n",
       "      <td>3.249405</td>\n",
       "      <td>7.189654</td>\n",
       "      <td>0.441899</td>\n",
       "    </tr>\n",
       "    <tr>\n",
       "      <th>min</th>\n",
       "      <td>30.000000</td>\n",
       "      <td>58.000000</td>\n",
       "      <td>0.000000</td>\n",
       "      <td>1.000000</td>\n",
       "    </tr>\n",
       "    <tr>\n",
       "      <th>25%</th>\n",
       "      <td>44.000000</td>\n",
       "      <td>60.000000</td>\n",
       "      <td>0.000000</td>\n",
       "      <td>1.000000</td>\n",
       "    </tr>\n",
       "    <tr>\n",
       "      <th>50%</th>\n",
       "      <td>52.000000</td>\n",
       "      <td>63.000000</td>\n",
       "      <td>1.000000</td>\n",
       "      <td>1.000000</td>\n",
       "    </tr>\n",
       "    <tr>\n",
       "      <th>75%</th>\n",
       "      <td>60.750000</td>\n",
       "      <td>65.750000</td>\n",
       "      <td>4.000000</td>\n",
       "      <td>2.000000</td>\n",
       "    </tr>\n",
       "    <tr>\n",
       "      <th>max</th>\n",
       "      <td>83.000000</td>\n",
       "      <td>69.000000</td>\n",
       "      <td>52.000000</td>\n",
       "      <td>2.000000</td>\n",
       "    </tr>\n",
       "  </tbody>\n",
       "</table>\n",
       "</div>"
      ],
      "text/plain": [
       "              age        year       nodes       class\n",
       "count  306.000000  306.000000  306.000000  306.000000\n",
       "mean    52.457516   62.852941    4.026144    1.264706\n",
       "std     10.803452    3.249405    7.189654    0.441899\n",
       "min     30.000000   58.000000    0.000000    1.000000\n",
       "25%     44.000000   60.000000    0.000000    1.000000\n",
       "50%     52.000000   63.000000    1.000000    1.000000\n",
       "75%     60.750000   65.750000    4.000000    2.000000\n",
       "max     83.000000   69.000000   52.000000    2.000000"
      ]
     },
     "execution_count": 6,
     "metadata": {},
     "output_type": "execute_result"
    }
   ],
   "source": [
    "cancerBr.describe()"
   ]
  },
  {
   "cell_type": "code",
   "execution_count": 13,
   "metadata": {},
   "outputs": [
    {
     "name": "stdout",
     "output_type": "stream",
     "text": [
      "age      0\n",
      "year     0\n",
      "nodes    0\n",
      "class    0\n",
      "dtype: int64\n"
     ]
    },
    {
     "data": {
      "image/png": "[encoded data removed]",
      "text/plain": [
       "<Figure size 432x288 with 4 Axes>"
      ]
     },
     "metadata": {
      "needs_background": "light"
     },
     "output_type": "display_data"
    }
   ],
   "source": [
    "print( cancerBr.isna().sum() )\n",
    "cancerBr.hist()\n",
    "plt.show()"
   ]
  },
  {
   "cell_type": "code",
   "execution_count": 17,
   "metadata": {},
   "outputs": [
    {
     "name": "stdout",
     "output_type": "stream",
     "text": [
      "   age  year  nodes\n",
      "0   30    64      1\n",
      "1   30    62      3\n",
      "2   30    65      0\n",
      "3   31    59      2\n",
      "4   31    65      4\n",
      "- - - - - - - -\n",
      "301    1\n",
      "302    1\n",
      "303    1\n",
      "304    2\n",
      "305    2\n",
      "Name: class, dtype: int64\n"
     ]
    },
    {
     "data": {
      "text/plain": [
       "(None, None, None)"
      ]
     },
     "execution_count": 17,
     "metadata": {},
     "output_type": "execute_result"
    }
   ],
   "source": [
    "X = cancerBr.drop(['class'], axis=1)\n",
    "y = cancerBr['class']\n",
    "\n",
    "print(X.head()), print('- - - - - - - -'), print(y.tail())"
   ]
  },
  {
   "cell_type": "code",
   "execution_count": 23,
   "metadata": {},
   "outputs": [],
   "source": [
    "from sklearn.model_selection import train_test_split\n",
    "from sklearn.ensemble import RandomForestClassifier\n",
    "\n",
    "xTrain, xTest, yTrain, yTest = train_test_split(X, y, test_size=0.2)"
   ]
  },
  {
   "cell_type": "code",
   "execution_count": 25,
   "metadata": {},
   "outputs": [
    {
     "data": {
      "text/plain": [
       "0.7258064516129032"
      ]
     },
     "execution_count": 25,
     "metadata": {},
     "output_type": "execute_result"
    }
   ],
   "source": [
    "clf = RandomForestClassifier()\n",
    "clf.fit(xTrain, yTrain)\n",
    "clf.score(xTest, yTest)"
   ]
  },
  {
   "cell_type": "code",
   "execution_count": 26,
   "metadata": {},
   "outputs": [
    {
     "data": {
      "text/plain": [
       "array([1, 2, 1, 1, 2, 1, 1, 1, 1, 1, 1, 1, 2, 2, 2, 1, 1, 1, 1, 1, 1, 1,\n",
       "       1, 1, 1, 1, 1, 1, 1, 1, 1, 1, 1, 1, 2, 1, 2, 1, 1, 1, 1, 1, 1, 1,\n",
       "       1, 2, 1, 1, 1, 2, 1, 1, 2, 1, 2, 1, 1, 1, 1, 1, 1, 1])"
      ]
     },
     "execution_count": 26,
     "metadata": {},
     "output_type": "execute_result"
    }
   ],
   "source": [
    "y_preds = clf.predict(xTest)\n",
    "y_preds"
   ]
  },
  {
   "cell_type": "code",
   "execution_count": 27,
   "metadata": {},
   "outputs": [
    {
     "data": {
      "text/plain": [
       "array([[39,  5],\n",
       "       [12,  6]])"
      ]
     },
     "execution_count": 27,
     "metadata": {},
     "output_type": "execute_result"
    }
   ],
   "source": [
    "from sklearn.metrics import confusion_matrix, classification_report\n",
    "confusion_matrix(yTest, y_preds)"
   ]
  },
  {
   "cell_type": "code",
   "execution_count": 29,
   "metadata": {},
   "outputs": [
    {
     "name": "stdout",
     "output_type": "stream",
     "text": [
      "              precision    recall  f1-score   support\n",
      "\n",
      "           1       0.76      0.89      0.82        44\n",
      "           2       0.55      0.33      0.41        18\n",
      "\n",
      "    accuracy                           0.73        62\n",
      "   macro avg       0.66      0.61      0.62        62\n",
      "weighted avg       0.70      0.73      0.70        62\n",
      "\n"
     ]
    }
   ],
   "source": [
    "print(classification_report(yTest, y_preds) )"
   ]
  },
  {
   "cell_type": "code",
   "execution_count": 31,
   "metadata": {},
   "outputs": [
    {
     "data": {
      "text/plain": [
       "{'bootstrap': True,\n",
       " 'ccp_alpha': 0.0,\n",
       " 'class_weight': None,\n",
       " 'criterion': 'gini',\n",
       " 'max_depth': None,\n",
       " 'max_features': 'auto',\n",
       " 'max_leaf_nodes': None,\n",
       " 'max_samples': None,\n",
       " 'min_impurity_decrease': 0.0,\n",
       " 'min_samples_leaf': 1,\n",
       " 'min_samples_split': 2,\n",
       " 'min_weight_fraction_leaf': 0.0,\n",
       " 'n_estimators': 100,\n",
       " 'n_jobs': None,\n",
       " 'oob_score': False,\n",
       " 'random_state': None,\n",
       " 'verbose': 0,\n",
       " 'warm_start': False}"
      ]
     },
     "execution_count": 31,
     "metadata": {},
     "output_type": "execute_result"
    }
   ],
   "source": [
    "clf.get_params()"
   ]
  },
  {
   "cell_type": "code",
   "execution_count": 33,
   "metadata": {},
   "outputs": [
    {
     "name": "stdout",
     "output_type": "stream",
     "text": [
      "Fitting 5 folds for each of 15 candidates, totalling 75 fits\n",
      "[CV] END max_features=sqrt, min_samples_split=6, n_estimators=600; total time=   1.0s\n",
      "[CV] END max_features=sqrt, min_samples_split=6, n_estimators=600; total time=   1.0s\n",
      "[CV] END max_features=sqrt, min_samples_split=6, n_estimators=600; total time=   1.0s\n",
      "[CV] END max_features=sqrt, min_samples_split=6, n_estimators=600; total time=   1.0s\n",
      "[CV] END max_features=sqrt, min_samples_split=6, n_estimators=600; total time=   1.0s\n",
      "[CV] END max_features=auto, min_samples_split=6, n_estimators=100; total time=   0.2s\n",
      "[CV] END max_features=auto, min_samples_split=6, n_estimators=100; total time=   0.2s\n",
      "[CV] END max_features=auto, min_samples_split=6, n_estimators=100; total time=   0.2s\n",
      "[CV] END max_features=auto, min_samples_split=6, n_estimators=100; total time=   0.2s\n",
      "[CV] END max_features=auto, min_samples_split=6, n_estimators=100; total time=   0.2s\n",
      "[CV] END max_features=sqrt, min_samples_split=4, n_estimators=200; total time=   0.3s\n",
      "[CV] END max_features=sqrt, min_samples_split=4, n_estimators=200; total time=   0.4s\n",
      "[CV] END max_features=sqrt, min_samples_split=4, n_estimators=200; total time=   0.4s\n",
      "[CV] END max_features=sqrt, min_samples_split=4, n_estimators=200; total time=   0.3s\n",
      "[CV] END max_features=sqrt, min_samples_split=4, n_estimators=200; total time=   0.3s\n",
      "[CV] END max_features=sqrt, min_samples_split=6, n_estimators=10; total time=   0.0s\n",
      "[CV] END max_features=sqrt, min_samples_split=6, n_estimators=10; total time=   0.0s\n",
      "[CV] END max_features=sqrt, min_samples_split=6, n_estimators=10; total time=   0.0s\n",
      "[CV] END max_features=sqrt, min_samples_split=6, n_estimators=10; total time=   0.0s\n",
      "[CV] END max_features=sqrt, min_samples_split=6, n_estimators=10; total time=   0.0s\n",
      "[CV] END max_features=auto, min_samples_split=6, n_estimators=500; total time=   0.8s\n",
      "[CV] END max_features=auto, min_samples_split=6, n_estimators=500; total time=   0.8s\n",
      "[CV] END max_features=auto, min_samples_split=6, n_estimators=500; total time=   0.8s\n",
      "[CV] END max_features=auto, min_samples_split=6, n_estimators=500; total time=   0.9s\n",
      "[CV] END max_features=auto, min_samples_split=6, n_estimators=500; total time=   0.9s\n",
      "[CV] END max_features=sqrt, min_samples_split=6, n_estimators=100; total time=   0.2s\n",
      "[CV] END max_features=sqrt, min_samples_split=6, n_estimators=100; total time=   0.2s\n",
      "[CV] END max_features=sqrt, min_samples_split=6, n_estimators=100; total time=   0.2s\n",
      "[CV] END max_features=sqrt, min_samples_split=6, n_estimators=100; total time=   0.2s\n",
      "[CV] END max_features=sqrt, min_samples_split=6, n_estimators=100; total time=   0.2s\n",
      "[CV] END max_features=sqrt, min_samples_split=2, n_estimators=400; total time=   0.7s\n",
      "[CV] END max_features=sqrt, min_samples_split=2, n_estimators=400; total time=   0.7s\n",
      "[CV] END max_features=sqrt, min_samples_split=2, n_estimators=400; total time=   0.7s\n",
      "[CV] END max_features=sqrt, min_samples_split=2, n_estimators=400; total time=   0.7s\n",
      "[CV] END max_features=sqrt, min_samples_split=2, n_estimators=400; total time=   0.7s\n",
      "[CV] END max_features=auto, min_samples_split=6, n_estimators=10; total time=   0.0s\n",
      "[CV] END max_features=auto, min_samples_split=6, n_estimators=10; total time=   0.0s\n",
      "[CV] END max_features=auto, min_samples_split=6, n_estimators=10; total time=   0.0s\n",
      "[CV] END max_features=auto, min_samples_split=6, n_estimators=10; total time=   0.0s\n",
      "[CV] END max_features=auto, min_samples_split=6, n_estimators=10; total time=   0.0s\n",
      "[CV] END max_features=auto, min_samples_split=4, n_estimators=200; total time=   0.4s\n",
      "[CV] END max_features=auto, min_samples_split=4, n_estimators=200; total time=   0.4s\n",
      "[CV] END max_features=auto, min_samples_split=4, n_estimators=200; total time=   0.4s\n",
      "[CV] END max_features=auto, min_samples_split=4, n_estimators=200; total time=   0.4s\n",
      "[CV] END max_features=auto, min_samples_split=4, n_estimators=200; total time=   0.4s\n",
      "[CV] END max_features=auto, min_samples_split=6, n_estimators=600; total time=   1.0s\n",
      "[CV] END max_features=auto, min_samples_split=6, n_estimators=600; total time=   1.0s\n",
      "[CV] END max_features=auto, min_samples_split=6, n_estimators=600; total time=   1.1s\n",
      "[CV] END max_features=auto, min_samples_split=6, n_estimators=600; total time=   1.0s\n",
      "[CV] END max_features=auto, min_samples_split=6, n_estimators=600; total time=   1.0s\n",
      "[CV] END max_features=auto, min_samples_split=4, n_estimators=400; total time=   0.7s\n",
      "[CV] END max_features=auto, min_samples_split=4, n_estimators=400; total time=   0.6s\n",
      "[CV] END max_features=auto, min_samples_split=4, n_estimators=400; total time=   0.7s\n",
      "[CV] END max_features=auto, min_samples_split=4, n_estimators=400; total time=   0.7s\n",
      "[CV] END max_features=auto, min_samples_split=4, n_estimators=400; total time=   0.6s\n",
      "[CV] END max_features=sqrt, min_samples_split=6, n_estimators=500; total time=   0.8s\n",
      "[CV] END max_features=sqrt, min_samples_split=6, n_estimators=500; total time=   0.8s\n",
      "[CV] END max_features=sqrt, min_samples_split=6, n_estimators=500; total time=   0.8s\n",
      "[CV] END max_features=sqrt, min_samples_split=6, n_estimators=500; total time=   0.8s\n",
      "[CV] END max_features=sqrt, min_samples_split=6, n_estimators=500; total time=   0.8s\n",
      "[CV] END max_features=auto, min_samples_split=2, n_estimators=10; total time=   0.0s\n",
      "[CV] END max_features=auto, min_samples_split=2, n_estimators=10; total time=   0.0s\n",
      "[CV] END max_features=auto, min_samples_split=2, n_estimators=10; total time=   0.0s\n",
      "[CV] END max_features=auto, min_samples_split=2, n_estimators=10; total time=   0.0s\n",
      "[CV] END max_features=auto, min_samples_split=2, n_estimators=10; total time=   0.0s\n",
      "[CV] END max_features=auto, min_samples_split=2, n_estimators=500; total time=   0.9s\n",
      "[CV] END max_features=auto, min_samples_split=2, n_estimators=500; total time=   0.9s\n",
      "[CV] END max_features=auto, min_samples_split=2, n_estimators=500; total time=   0.8s\n",
      "[CV] END max_features=auto, min_samples_split=2, n_estimators=500; total time=   0.8s\n",
      "[CV] END max_features=auto, min_samples_split=2, n_estimators=500; total time=   0.8s\n",
      "[CV] END max_features=sqrt, min_samples_split=4, n_estimators=600; total time=   0.9s\n",
      "[CV] END max_features=sqrt, min_samples_split=4, n_estimators=600; total time=   1.0s\n",
      "[CV] END max_features=sqrt, min_samples_split=4, n_estimators=600; total time=   1.0s\n",
      "[CV] END max_features=sqrt, min_samples_split=4, n_estimators=600; total time=   1.0s\n",
      "[CV] END max_features=sqrt, min_samples_split=4, n_estimators=600; total time=   1.0s\n"
     ]
    },
    {
     "data": {
      "text/plain": [
       "RandomizedSearchCV(cv=5, estimator=RandomForestClassifier(), n_iter=15,\n",
       "                   param_distributions={'max_features': ['auto', 'sqrt'],\n",
       "                                        'min_samples_split': [2, 4, 6],\n",
       "                                        'n_estimators': [10, 100, 200, 400, 500,\n",
       "                                                         600]},\n",
       "                   verbose=2)"
      ]
     },
     "execution_count": 33,
     "metadata": {},
     "output_type": "execute_result"
    }
   ],
   "source": [
    "from sklearn.model_selection import RandomizedSearchCV\n",
    "model_params = {\n",
    "    # randomly sample numbers from 4 to 204 estimators\n",
    "    'n_estimators': [10, 100, 200, 400, 500, 600],\n",
    "    # normally distributed max_features, with mean .25 stddev 0.1, bounded between 0 and 1\n",
    "    'max_features': ['auto', 'sqrt'],\n",
    "    # uniform distribution from 0.01 to 0.2 (0.01 + 0.199)\n",
    "    'min_samples_split': [2,4,6]\n",
    "}\n",
    "\n",
    "np.random.seed(42)\n",
    "\n",
    "rsClf = RandomizedSearchCV(clf, model_params, n_iter=15, cv= 5, verbose=2)\n",
    "\n",
    "rsClf.fit(xTrain, yTrain)"
   ]
  },
  {
   "cell_type": "code",
   "execution_count": 34,
   "metadata": {},
   "outputs": [
    {
     "data": {
      "text/plain": [
       "{'n_estimators': 10, 'min_samples_split': 6, 'max_features': 'sqrt'}"
      ]
     },
     "execution_count": 34,
     "metadata": {},
     "output_type": "execute_result"
    }
   ],
   "source": [
    "rsClf.best_params_"
   ]
  },
  {
   "cell_type": "code",
   "execution_count": 35,
   "metadata": {},
   "outputs": [
    {
     "data": {
      "text/plain": [
       "0.7096774193548387"
      ]
     },
     "execution_count": 35,
     "metadata": {},
     "output_type": "execute_result"
    }
   ],
   "source": [
    "rsClf.score(xTest, yTest)"
   ]
  },
  {
   "cell_type": "code",
   "execution_count": 39,
   "metadata": {},
   "outputs": [
    {
     "name": "stdout",
     "output_type": "stream",
     "text": [
      "0.7096774193548387\n"
     ]
    }
   ],
   "source": [
    "yPreds = rsClf.predict(xTest)\n",
    "print( (yPreds == yTest).sum()/len(yTest) )"
   ]
  },
  {
   "cell_type": "code",
   "execution_count": null,
   "metadata": {},
   "outputs": [],
   "source": []
  },
  {
   "cell_type": "code",
   "execution_count": null,
   "metadata": {},
   "outputs": [],
   "source": []
  }
 ],
 "metadata": {
  "interpreter": {
   "hash": "821a05091dec1d0f83c6bccf42d3aa9f3d3c9a3d2530485bb07f63dfe220dc74"
  },
  "kernelspec": {
   "display_name": "Python 3.8.8 ('pytorch_venv')",
   "language": "python",
   "name": "python3"
  },
  "language_info": {
   "codemirror_mode": {
    "name": "ipython",
    "version": 3
   },
   "file_extension": ".py",
   "mimetype": "text/x-python",
   "name": "python",
   "nbconvert_exporter": "python",
   "pygments_lexer": "ipython3",
   "version": "3.8.8"
  },
  "orig_nbformat": 4
 },
 "nbformat": 4,
 "nbformat_minor": 2
}
